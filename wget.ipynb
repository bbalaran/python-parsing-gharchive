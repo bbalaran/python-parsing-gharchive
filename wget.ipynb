{
 "cells": [
  {
   "cell_type": "code",
   "execution_count": 13,
   "metadata": {
    "collapsed": false
   },
   "outputs": [],
   "source": [
    "import wget\n",
    "import calendar"
   ]
  },
  {
   "cell_type": "code",
   "execution_count": 12,
   "metadata": {
    "collapsed": false
   },
   "outputs": [
    {
     "data": {
      "text/plain": [
       "'2015-01-01-4.json.gz'"
      ]
     },
     "execution_count": 12,
     "metadata": {},
     "output_type": "execute_result"
    }
   ],
   "source": [
    "url= 'http://data.githubarchive.org/2015-01-01-4.json.gz'\n",
    "filename = wget.download(url)\n",
    "filename"
   ]
  },
  {
   "cell_type": "code",
   "execution_count": 47,
   "metadata": {
    "collapsed": false
   },
   "outputs": [],
   "source": [
    "download_urls = []\n",
    "BASE = 'http://data.githubarchive.org/'\n",
    "year = 2015\n",
    "archive_2015 = []\n",
    "for mon in range(1, 13):\n",
    "    days = calendar.monthrange(year,mon)[1]\n",
    "    month = str(mon) if mon > 9 else \"0\" + str(mon)\n",
    "    for day in range(1, days+1):\n",
    "        day_str = str(day) if day > 9 else \"0\" + str(day)\n",
    "        for hour in range(1, 24):\n",
    "            download_urls.append(str(BASE) + str(year) + \"-\" + month + \"-\" + day_str + \"-\" + str(hour) + \".json.gz\")\n",
    "        \n"
   ]
  },
  {
   "cell_type": "code",
   "execution_count": 48,
   "metadata": {
    "collapsed": false
   },
   "outputs": [],
   "source": [
    "def wget_github(url):\n",
    "    try:\n",
    "        filename = wget.download(url)\n",
    "    except:\n",
    "        with open(\"wget_log.txt\", \"a\") as log:\n",
    "            log.write(\"ERROR IN: \" + url + \"\\n\")\n",
    "            log.close()\n",
    "        "
   ]
  },
  {
   "cell_type": "code",
   "execution_count": 49,
   "metadata": {
    "collapsed": false
   },
   "outputs": [],
   "source": [
    "wget_github(download_urls[0])\n"
   ]
  },
  {
   "cell_type": "code",
   "execution_count": 53,
   "metadata": {
    "collapsed": false
   },
   "outputs": [
    {
     "name": "stdout",
     "output_type": "stream",
     "text": [
      "starting:http://data.githubarchive.org/2015-01-01-6.json.gz\n",
      "starting:http://data.githubarchive.org/2015-01-01-7.json.gz\n",
      "starting:http://data.githubarchive.org/2015-01-01-8.json.gz\n",
      "starting:http://data.githubarchive.org/2015-01-01-9.json.gz\n",
      "starting:http://data.githubarchive.org/2015-01-01-10.json.gz\n",
      "finished\n"
     ]
    }
   ],
   "source": [
    "for url in download_urls[5:10]:\n",
    "    print('starting:' + url)\n",
    "    wget_github(url)\n",
    "print('finished')"
   ]
  },
  {
   "cell_type": "code",
   "execution_count": 54,
   "metadata": {
    "collapsed": false
   },
   "outputs": [
    {
     "data": {
      "text/plain": [
       "26.28"
      ]
     },
     "execution_count": 54,
     "metadata": {},
     "output_type": "execute_result"
    }
   ],
   "source": []
  }
 ],
 "metadata": {
  "kernelspec": {
   "display_name": "Python 3",
   "language": "python",
   "name": "python3"
  },
  "language_info": {
   "codemirror_mode": {
    "name": "ipython",
    "version": 3
   },
   "file_extension": ".py",
   "mimetype": "text/x-python",
   "name": "python",
   "nbconvert_exporter": "python",
   "pygments_lexer": "ipython3",
   "version": "3.4.3"
  }
 },
 "nbformat": 4,
 "nbformat_minor": 0
}
