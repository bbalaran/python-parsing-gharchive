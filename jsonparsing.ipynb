{
 "cells": [
  {
   "cell_type": "code",
   "execution_count": 31,
   "metadata": {
    "collapsed": false
   },
   "outputs": [],
   "source": [
    "import ujson\n",
    "import gzip\n",
    "import matplotlib\n",
    "import pandas"
   ]
  },
  {
   "cell_type": "code",
   "execution_count": 37,
   "metadata": {
    "collapsed": false
   },
   "outputs": [],
   "source": [
    "types = []\n",
    "with gzip.open('../2015-01-01-15.json.gz') as f:\n",
    "    for i, line in enumerate(f):\n",
    "        json_data = ujson.loads(line)\n",
    "        types.append(json_data['type'])\n",
    "    f.close()\n"
   ]
  },
  {
   "cell_type": "code",
   "execution_count": 48,
   "metadata": {
    "collapsed": false
   },
   "outputs": [
    {
     "data": {
      "text/plain": [
       "types\n",
       "PushEvent                        5815\n",
       "CreateEvent                      1471\n",
       "WatchEvent                       1230\n",
       "IssueCommentEvent                 844\n",
       "IssuesEvent                       545\n",
       "PullRequestEvent                  474\n",
       "ForkEvent                         355\n",
       "DeleteEvent                       260\n",
       "PullRequestReviewCommentEvent     136\n",
       "CommitCommentEvent                 73\n",
       "GollumEvent                        61\n",
       "ReleaseEvent                       60\n",
       "MemberEvent                        25\n",
       "PublicEvent                         2\n",
       "dtype: int64"
      ]
     },
     "execution_count": 48,
     "metadata": {},
     "output_type": "execute_result"
    }
   ],
   "source": [
    "pandas.DataFrame({\"types\":types}).groupby(\"types\").size().order(ascending=False)"
   ]
  }
 ],
 "metadata": {
  "kernelspec": {
   "display_name": "Python 3",
   "language": "python",
   "name": "python3"
  },
  "language_info": {
   "codemirror_mode": {
    "name": "ipython",
    "version": 3
   },
   "file_extension": ".py",
   "mimetype": "text/x-python",
   "name": "python",
   "nbconvert_exporter": "python",
   "pygments_lexer": "ipython3",
   "version": "3.4.3"
  }
 },
 "nbformat": 4,
 "nbformat_minor": 0
}
